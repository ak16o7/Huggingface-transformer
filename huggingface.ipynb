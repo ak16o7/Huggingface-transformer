{
 "cells": [
  {
   "cell_type": "code",
   "execution_count": null,
   "metadata": {},
   "outputs": [],
   "source": [
    "!pip install transformers"
   ]
  },
  {
   "cell_type": "code",
   "execution_count": null,
   "metadata": {},
   "outputs": [],
   "source": [
    "# Text Summarization \n",
    "from transformers import pipeline\n",
    "#Load pre-trained summarization model from Huggingface model hub\n",
    "summarizer = pipeline(\"summarization\", model=\"philschmid/bart-large-cnn-samsum\")\n",
    "\n",
    "#Define the conversation to be summarized\n",
    "conversation = '''Bob: Hi Tim, I was hoping we could talk about my salary.\n",
    "Tim: Of course, what's on your mind?\n",
    "Bob: Well, I've been with the company for a few years now and I feel like I've taken on a lot of new responsibilities since I started. I was wondering if we could discuss a raise to reflect that.\n",
    "Tim: I understand where you're coming from, Bob, but unfortunately, we're not in a position to give out raises at the moment.\n",
    "Bob: Can you explain why?\n",
    "Tim: The company has been facing some financial difficulties lately, and we need to tighten our belts a bit. Giving out raises just isn't in the budget right now.\n",
    "Bob: I see. Is there anything I can do to help the company through this difficult time?\n",
    "Tim: Actually, yes. We've been looking for ways to cut costs, and I think you could play a big role in that. If you can come up with some innovative ideas for reducing expenses, that would be a big help.\n",
    "Bob: I'm happy to do what I can to help, but I still feel like I'm not being compensated fairly for the work I'm doing.\n",
    "Tim: I understand, Bob. And I want you to know that your hard work and dedication to the company are valued. But right now, we just can't afford to give out raises.                                    \n",
    "'''\n",
    "#Use the summarization pipeline to generate a summary of the conversation\n",
    "summarizer(conversation)"
   ]
  },
  {
   "cell_type": "code",
   "execution_count": null,
   "metadata": {},
   "outputs": [],
   "source": [
    "# Image Classification\n",
    "# Import necessary libraries\n",
    "from transformers import ViTImageProcessor, ViTForImageClassification\n",
    "from PIL import Image\n",
    "import requests\n",
    "\n",
    "# Load image from URL with PIL\n",
    "url = 'https://www.akc.org/wp-content/uploads/2015/10/Basset-Hound_Puppy_Leash.jpg'\n",
    "image = Image.open(requests.get(url, stream=True).raw)\n",
    "\n",
    "# Display the image\n",
    "image"
   ]
  },
  {
   "cell_type": "code",
   "execution_count": null,
   "metadata": {},
   "outputs": [],
   "source": [
    "#Load the pre-trained ViT image processor\n",
    "processor = ViTImageProcessor.from_pretrained('google/vit-base-patch16-224')\n",
    "#Load the pre-trained ViT model for image classification\n",
    "model = ViTForImageClassification.from_pretrained('google/vit-base-patch16-224')\n",
    "#Preprocess the image using the image processor and pass the preprocessed image to the model\n",
    "inputs = processor(images=image, return_tensors=\"pt\")\n",
    "outputs = model(**inputs)\n",
    "#Assign the tensor of logits\n",
    "logits = outputs.logits\n",
    "# model predicts one of the 1000 ImageNet classes\n",
    "predicted_class_idx = logits.argmax(-1).item()\n",
    "#Print the predicted class label\n",
    "print(\"Predicted class:\", model.config.id2label[predicted_class_idx])"
   ]
  },
  {
   "cell_type": "code",
   "execution_count": null,
   "metadata": {},
   "outputs": [],
   "source": [
    "# Stable Text to Image model \n",
    "from diffusers import StableDiffusionPipeline\n",
    "import torch\n",
    "\n",
    "model_id = \"runwayml/stable-diffusion-v1-5\"\n",
    "pipe = StableDiffusionPipeline.from_pretrained(model_id, torch_dtype=torch.float16)\n",
    "pipe = pipe.to(\"cuda\")\n",
    "\n",
    "prompt = \"a photo of an astronaut riding a horse on mars\"\n",
    "image = pipe(prompt).images[0]  \n",
    "    \n",
    "image.save(\"astronaut_rides_horse.png\")\n"
   ]
  }
 ],
 "metadata": {
  "kernelspec": {
   "display_name": "Python 3 (ipykernel)",
   "language": "python",
   "name": "python3"
  },
  "language_info": {
   "codemirror_mode": {
    "name": "ipython",
    "version": 3
   },
   "file_extension": ".py",
   "mimetype": "text/x-python",
   "name": "python",
   "nbconvert_exporter": "python",
   "pygments_lexer": "ipython3",
   "version": "3.11.3"
  }
 },
 "nbformat": 4,
 "nbformat_minor": 2
}
